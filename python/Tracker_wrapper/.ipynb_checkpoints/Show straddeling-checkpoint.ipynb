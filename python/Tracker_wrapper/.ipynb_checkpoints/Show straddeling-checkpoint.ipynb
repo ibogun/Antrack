{
 "cells": [
  {
   "cell_type": "code",
   "execution_count": 5,
   "metadata": {
    "collapsed": false
   },
   "outputs": [
    {
     "name": "stdout",
     "output_type": "stream",
     "text": [
      "/Users/Ivan/Code/Tracking/Antrack/matlab/vot-toolkit/antrack/sequences/basketball\n",
      "725\n"
     ]
    },
    {
     "ename": "NameError",
     "evalue": "name 'self' is not defined",
     "output_type": "error",
     "traceback": [
      "\u001b[0;31m---------------------------------------------------------------------------\u001b[0m",
      "\u001b[0;31mNameError\u001b[0m                                 Traceback (most recent call last)",
      "\u001b[0;32m<ipython-input-5-a0487788919b>\u001b[0m in \u001b[0;36m<module>\u001b[0;34m()\u001b[0m\n\u001b[1;32m     26\u001b[0m \u001b[0;32mprint\u001b[0m \u001b[0mvideo\u001b[0m\u001b[0;34m\u001b[0m\u001b[0m\n\u001b[1;32m     27\u001b[0m \u001b[0;32mprint\u001b[0m \u001b[0mlen\u001b[0m\u001b[0;34m(\u001b[0m\u001b[0mboxes\u001b[0m\u001b[0;34m)\u001b[0m\u001b[0;34m\u001b[0m\u001b[0m\n\u001b[0;32m---> 28\u001b[0;31m \u001b[0mimages\u001b[0m \u001b[0;34m=\u001b[0m \u001b[0mself\u001b[0m\u001b[0;34m.\u001b[0m\u001b[0mdataset\u001b[0m\u001b[0;34m.\u001b[0m\u001b[0mgetListOfImages\u001b[0m\u001b[0;34m(\u001b[0m\u001b[0mvideo\u001b[0m\u001b[0;34m)\u001b[0m\u001b[0;34m\u001b[0m\u001b[0m\n\u001b[0m\u001b[1;32m     29\u001b[0m \u001b[0;34m\u001b[0m\u001b[0m\n\u001b[1;32m     30\u001b[0m \u001b[0mR\u001b[0m \u001b[0;34m=\u001b[0m \u001b[0;36m60\u001b[0m\u001b[0;34m\u001b[0m\u001b[0m\n",
      "\u001b[0;31mNameError\u001b[0m: name 'self' is not defined"
     ]
    }
   ],
   "source": [
    "__author__ = 'Ivan'\n",
    "import objectness_python\n",
    "from Dataset import VOT2015Dataset\n",
    "import numpy as np\n",
    "import matplotlib.pyplot as plt\n",
    "import cv2\n",
    "from matplotlib import gridspec\n",
    "import re\n",
    "import os\n",
    "import time\n",
    "import math\n",
    "import copy\n",
    "from ObjectnessVisualizer import ObjectnessVizualizer\n",
    "\n",
    "\n",
    "root_folder = '/Users/Ivan/Code/Tracking/Antrack/matlab/vot-toolkit/antrack/sequences'\n",
    "vot = VOT2015Dataset(root_folder)\n",
    "\n",
    "superpixels = 200\n",
    "\n",
    "obj = ObjectnessVizualizer(vot)\n",
    "videos = [3]\n",
    "\n",
    "video = obj.dataset.video_folders[video_number]\n",
    "boxes = obj.dataset.readGroundTruthAll(video)\n",
    "print video\n",
    "print len(boxes)\n",
    "images = obj.dataset.getListOfImages(video)\n",
    "\n",
    "R = 60\n",
    "scale_R = 60\n",
    "min_size_half = 10\n",
    "min_scales=0\n",
    "max_scales =0\n",
    "downsample=1.05\n",
    "shrink_one_size = 0\n",
    "\n",
    "s=re.split('/',video)\n",
    "video_name = s[len(s)-1]\n",
    "\n",
    "for i in range(0, len(images)):\n",
    "\n",
    "    print \"processing image: \", \" \" , i ,\"/\", len(images)\n",
    "    obj = objectness_python.Objectness()\n",
    "    box=boxes[i]\n",
    "    im_name = images[i]\n",
    "    img = cv2.imread(im_name,1)\n",
    "\n",
    "    img = cv2.cvtColor(img, cv2.COLOR_BGR2RGB)\n",
    "\n",
    "    height = img.shape[0]\n",
    "    width = img.shape[1]\n",
    "\n",
    "    (min_x, min_y, max_x, max_y) = self.correctDims(box, width, height, R)\n",
    "\n",
    "    small_image = img[min_y:max_y, min_x :max_x]\n",
    "    obj.readImage(im_name)\n",
    "\n",
    "    pt1=(box[0] - min_x, box[1] - min_y)\n",
    "    pt2=(box[0] - min_x + box[2], box[1] -min_y + box[3])\n",
    "    cv2.rectangle(small_image, pt1,pt2, (100,0,150), 2)\n",
    "    cv2.rectangle(img, (min_x, min_y), (max_x, max_y), (0,255,200),2)\n",
    "    small_image = self.drawRectangle(small_image, box , R)\n",
    "    obj.smallImage(R, box[0], box[1], box[2], box[3])\n",
    "\n",
    "    a = obj.process(self.superpixels,self.inner, 0,\n",
    "                    R, scale_R, min_size_half, min_scales, max_scales,\n",
    "                            downsample, shrink_one_size,\n",
    "                            box[0], box[1], box[2], box[3])"
   ]
  },
  {
   "cell_type": "code",
   "execution_count": 3,
   "metadata": {
    "collapsed": false
   },
   "outputs": [],
   "source": []
  },
  {
   "cell_type": "code",
   "execution_count": null,
   "metadata": {
    "collapsed": true
   },
   "outputs": [],
   "source": []
  }
 ],
 "metadata": {
  "kernelspec": {
   "display_name": "IPython (Python 2)",
   "name": "python2"
  },
  "language_info": {
   "codemirror_mode": {
    "name": "ipython",
    "version": 2
   },
   "file_extension": ".py",
   "mimetype": "text/x-python",
   "name": "python",
   "nbconvert_exporter": "python",
   "pygments_lexer": "ipython2",
   "version": "2.7.10"
  }
 },
 "nbformat": 4,
 "nbformat_minor": 0
}